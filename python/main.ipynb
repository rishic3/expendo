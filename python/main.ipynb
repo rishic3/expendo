{
 "cells": [
  {
   "cell_type": "code",
   "execution_count": null,
   "metadata": {},
   "outputs": [],
   "source": [
    "import pandas as pd\n",
    "from src.spreadsheet import SpreadSheet\n",
    "from src.classifier import *"
   ]
  },
  {
   "cell_type": "markdown",
   "metadata": {},
   "source": [
    "Constants for the spreadsheet."
   ]
  },
  {
   "cell_type": "code",
   "execution_count": 2,
   "metadata": {},
   "outputs": [],
   "source": [
    "SPREADSHEET_ID = \"1NONAyZN-DU7VyRR4ystC8rDZ0aBQsEU65kTJiesV-c0\"\n",
    "\n",
    "col_mappings = {\n",
    "    \"month\": \"I\",\n",
    "    \"date\": \"K\",\n",
    "    \"cost\": \"L\",\n",
    "    \"description\": \"M\",\n",
    "    \"category\": \"N\",\n",
    "}"
   ]
  },
  {
   "cell_type": "markdown",
   "metadata": {},
   "source": [
    "Change this path for each update:"
   ]
  },
  {
   "cell_type": "code",
   "execution_count": 3,
   "metadata": {},
   "outputs": [],
   "source": [
    "TRANSACTIONS_PATH = \"data/new-data.csv\""
   ]
  },
  {
   "cell_type": "markdown",
   "metadata": {},
   "source": [
    "### ETL"
   ]
  },
  {
   "cell_type": "markdown",
   "metadata": {},
   "source": [
    "Load and preprocess current spreadsheet and new transactions:"
   ]
  },
  {
   "cell_type": "code",
   "execution_count": null,
   "metadata": {},
   "outputs": [],
   "source": [
    "sheet = SpreadSheet(SPREADSHEET_ID)\n",
    "old_data = load_and_process_spreadsheet(sheet, col_mappings)\n",
    "display(old_data)"
   ]
  },
  {
   "cell_type": "code",
   "execution_count": null,
   "metadata": {},
   "outputs": [],
   "source": [
    "new_data = load_and_process_transactions(TRANSACTIONS_PATH)\n",
    "display(new_data)"
   ]
  },
  {
   "cell_type": "markdown",
   "metadata": {},
   "source": [
    "Remove overlapping data that has already been added to the sheet:"
   ]
  },
  {
   "cell_type": "code",
   "execution_count": null,
   "metadata": {},
   "outputs": [],
   "source": [
    "latest_date = sheet.get_latest_col_value(col_mappings.get(\"date\"))\n",
    "new_data = new_data[new_data[\"Date\"] >= latest_date]\n",
    "new_data.rename(columns={\"Name\": 'description'}, inplace=True)\n",
    "display(new_data)"
   ]
  },
  {
   "cell_type": "markdown",
   "metadata": {},
   "source": [
    "### Compute embeddings and classify"
   ]
  },
  {
   "cell_type": "code",
   "execution_count": null,
   "metadata": {},
   "outputs": [],
   "source": [
    "threshold = 0.85\n",
    "new_data_labeled, low_conf = embed_and_classify(old_data, new_data, \"description\", \"category\", threshold)"
   ]
  },
  {
   "cell_type": "code",
   "execution_count": 9,
   "metadata": {},
   "outputs": [],
   "source": [
    "for index, name in low_conf.items():\n",
    "    print(f\"Item '{name}' at index {index} has low confidence and needs manual classification.\")"
   ]
  },
  {
   "cell_type": "markdown",
   "metadata": {},
   "source": [
    "### Update spreadsheet"
   ]
  },
  {
   "cell_type": "code",
   "execution_count": null,
   "metadata": {},
   "outputs": [],
   "source": [
    "display(new_data_labeled)"
   ]
  },
  {
   "cell_type": "markdown",
   "metadata": {},
   "source": [
    "Reorder and format to match sheet."
   ]
  },
  {
   "cell_type": "code",
   "execution_count": null,
   "metadata": {},
   "outputs": [],
   "source": [
    "import calendar \n",
    "new_data_labeled[\"month\"] = pd.to_datetime(new_data_labeled[\"Date\"]).dt.month.apply(lambda x: calendar.month_name[x])\n",
    "cols = ['month', 'Date', 'Amount', 'description', 'category']\n",
    "new_data_labeled = new_data_labeled[cols]\n",
    "new_data_labeled.insert(1, 'blank', '')\n",
    "display(new_data_labeled)"
   ]
  },
  {
   "cell_type": "code",
   "execution_count": null,
   "metadata": {},
   "outputs": [],
   "source": [
    "mo = col_mappings.get(\"month\")\n",
    "sheet.append_values(new_data_labeled.values.tolist(), f\"I184:N184\")"
   ]
  },
  {
   "cell_type": "code",
   "execution_count": null,
   "metadata": {},
   "outputs": [],
   "source": []
  }
 ],
 "metadata": {
  "kernelspec": {
   "display_name": "fingal",
   "language": "python",
   "name": "python3"
  },
  "language_info": {
   "codemirror_mode": {
    "name": "ipython",
    "version": 3
   },
   "file_extension": ".py",
   "mimetype": "text/x-python",
   "name": "python",
   "nbconvert_exporter": "python",
   "pygments_lexer": "ipython3",
   "version": "3.11.11"
  }
 },
 "nbformat": 4,
 "nbformat_minor": 2
}
